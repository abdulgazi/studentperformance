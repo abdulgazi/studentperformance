{
 "cells": [
  {
   "cell_type": "code",
   "execution_count": 1,
   "metadata": {},
   "outputs": [],
   "source": [
    "student_per_p = 'student-por.csv'"
   ]
  },
  {
   "cell_type": "code",
   "execution_count": 2,
   "metadata": {},
   "outputs": [],
   "source": [
    "import pandas as pd"
   ]
  },
  {
   "cell_type": "code",
   "execution_count": 3,
   "metadata": {},
   "outputs": [],
   "source": [
    "student_per = pd.read_csv(student_per_p, sep=';', decimal='.', header=0, names=['school', 'sex', 'age',\n",
    "                                                                                  'address', 'famsize',\n",
    "                                                                                  'pstatus', 'medu', 'fedu',\n",
    "                                                                                  'mjob', 'fjob', 'reason',\n",
    "                                                                                  'guardian', 'traveltime',\n",
    "                                                                                  'studytime', 'failures',\n",
    "                                                                                  'schoolsup', 'famsup',\n",
    "                                                                                  'paid', 'activities',\n",
    "                                                                                  'nursery', 'higher', 'internet',\n",
    "                                                                                  'romantic', 'famrel', 'freetime',\n",
    "                                                                                  'goout', 'dalc', 'walc', 'health',\n",
    "                                                                                  'absences', 'grade1', 'grade2',\n",
    "                                                                                  'finalgrade'],index_col=False)"
   ]
  },
  {
   "cell_type": "code",
   "execution_count": 4,
   "metadata": {},
   "outputs": [],
   "source": [
    "#Keep only the columns we are interested in\n",
    "student_per = student_per.drop(['school', 'sex', 'age', 'famsize', 'medu', 'fedu', 'mjob', 'fjob', 'reason',\n",
    "                               'studytime', 'failures', 'schoolsup', 'famsup', 'paid', 'activities', 'nursery',\n",
    "                               'higher', 'internet', 'freetime', 'goout', 'dalc', 'grade1', 'grade2'], axis=1)"
   ]
  },
  {
   "cell_type": "code",
   "execution_count": 5,
   "metadata": {},
   "outputs": [],
   "source": [
    "import numpy as np"
   ]
  },
  {
   "cell_type": "code",
   "execution_count": 6,
   "metadata": {},
   "outputs": [
    {
     "data": {
      "text/plain": [
       "1    452\n",
       "0    197\n",
       "Name: address, dtype: int64"
      ]
     },
     "execution_count": 6,
     "metadata": {},
     "output_type": "execute_result"
    }
   ],
   "source": [
    "#convert strings into int\n",
    "student_per['address'] = np.where(student_per['address']== 'U', 1, student_per['address'])\n",
    "student_per['address'] = np.where(student_per['address'] == 'R', 0, student_per['address'])\n",
    "student_per['address'].value_counts()"
   ]
  },
  {
   "cell_type": "code",
   "execution_count": 7,
   "metadata": {},
   "outputs": [
    {
     "data": {
      "text/plain": [
       "1    569\n",
       "0     80\n",
       "Name: pstatus, dtype: int64"
      ]
     },
     "execution_count": 7,
     "metadata": {},
     "output_type": "execute_result"
    }
   ],
   "source": [
    "student_per['pstatus'] = np.where(student_per['pstatus'] == 'A', 0, student_per['pstatus'])\n",
    "student_per['pstatus'] = np.where(student_per['pstatus'] == 'T', 1, student_per['pstatus'])\n",
    "student_per['pstatus'].value_counts()\n"
   ]
  },
  {
   "cell_type": "code",
   "execution_count": 8,
   "metadata": {},
   "outputs": [
    {
     "data": {
      "text/plain": [
       "0    455\n",
       "1    153\n",
       "2     41\n",
       "Name: guardian, dtype: int64"
      ]
     },
     "execution_count": 8,
     "metadata": {},
     "output_type": "execute_result"
    }
   ],
   "source": [
    "student_per['guardian'] = np.where(student_per['guardian'] == 'mother', 0, student_per['guardian'])\n",
    "student_per['guardian'] = np.where(student_per['guardian'] == 'father', 1, student_per['guardian'])\n",
    "student_per['guardian'] = np.where(student_per['guardian'] == 'other', 2, student_per['guardian'])\n",
    "student_per['guardian'].value_counts()"
   ]
  },
  {
   "cell_type": "code",
   "execution_count": 9,
   "metadata": {},
   "outputs": [
    {
     "data": {
      "text/plain": [
       "0    410\n",
       "1    239\n",
       "Name: romantic, dtype: int64"
      ]
     },
     "execution_count": 9,
     "metadata": {},
     "output_type": "execute_result"
    }
   ],
   "source": [
    "student_per['romantic'] = np.where(student_per['romantic'] == 'no', 0, student_per['romantic'])\n",
    "student_per['romantic'] = np.where(student_per['romantic'] == 'yes', 1, student_per['romantic'])\n",
    "student_per['romantic'].value_counts()"
   ]
  },
  {
   "cell_type": "code",
   "execution_count": 10,
   "metadata": {},
   "outputs": [
    {
     "data": {
      "text/plain": [
       "2    418\n",
       "3    131\n",
       "1     84\n",
       "0     16\n",
       "Name: finalgrade, dtype: int64"
      ]
     },
     "execution_count": 10,
     "metadata": {},
     "output_type": "execute_result"
    }
   ],
   "source": [
    "#get target values, split grades\n",
    "student_per['finalgrade'] = np.where(student_per['finalgrade'].between(0,4), 0, student_per['finalgrade'])\n",
    "student_per['finalgrade'] = np.where(student_per['finalgrade'].between(5,9), 1, student_per['finalgrade'])\n",
    "student_per['finalgrade'] = np.where(student_per['finalgrade'].between(10,14), 2, student_per['finalgrade'])\n",
    "student_per['finalgrade'] = np.where(student_per['finalgrade'].between(15,20), 3, student_per['finalgrade'])\n",
    " \n",
    "student_per['finalgrade'].value_counts()"
   ]
  },
  {
   "cell_type": "code",
   "execution_count": 11,
   "metadata": {},
   "outputs": [],
   "source": [
    "target = student_per.finalgrade"
   ]
  },
  {
   "cell_type": "code",
   "execution_count": 12,
   "metadata": {},
   "outputs": [],
   "source": [
    "#get features\n",
    "data = student_per[['address', 'pstatus', 'guardian', 'traveltime', 'romantic', 'famrel', 'walc', 'health', 'absences']]"
   ]
  },
  {
   "cell_type": "code",
   "execution_count": 13,
   "metadata": {},
   "outputs": [],
   "source": [
    "#import statements\n",
    "from sklearn.model_selection import train_test_split\n",
    "from sklearn.neighbors import KNeighborsClassifier\n",
    "from sklearn import metrics"
   ]
  },
  {
   "cell_type": "code",
   "execution_count": 14,
   "metadata": {},
   "outputs": [],
   "source": [
    "#Model: 50% for training and 50% for testing\n",
    "x_train, x_test, y_train, y_test = train_test_split(data, target, test_size=0.5, random_state=0)"
   ]
  },
  {
   "cell_type": "code",
   "execution_count": 15,
   "metadata": {},
   "outputs": [],
   "source": [
    "#To find out optimum value of K\n",
    "k_range = range(1,25)\n",
    "scores = {}\n",
    "scores_list = []\n",
    "for k in k_range:\n",
    "        knn = KNeighborsClassifier(n_neighbors=k)\n",
    "        knn.fit(x_train,y_train)\n",
    "        y_pred=knn.predict(x_test)\n",
    "        scores[k] = metrics.accuracy_score(y_test,y_pred)\n",
    "        scores_list.append(metrics.accuracy_score(y_test,y_pred))"
   ]
  },
  {
   "cell_type": "code",
   "execution_count": 16,
   "metadata": {},
   "outputs": [
    {
     "data": {
      "text/plain": [
       "<function matplotlib.pyplot.show>"
      ]
     },
     "execution_count": 16,
     "metadata": {},
     "output_type": "execute_result"
    },
    {
     "data": {
      "image/png": "[encoded data removed]",
      "text/plain": [
       "<Figure size 432x288 with 1 Axes>"
      ]
     },
     "metadata": {
      "needs_background": "light"
     },
     "output_type": "display_data"
    }
   ],
   "source": [
    "#Plotting the results from above code to get an idea about the accuracy\n",
    "%matplotlib inline\n",
    "import matplotlib.pyplot as plt\n",
    "plt.plot(k_range,scores_list)\n",
    "plt.xlabel('Value for K')\n",
    "plt.xlabel('Accuracy')\n",
    "plt.show"
   ]
  },
  {
   "cell_type": "code",
   "execution_count": 17,
   "metadata": {},
   "outputs": [],
   "source": [
    "from sklearn.metrics import confusion_matrix\n",
    "from sklearn.metrics import classification_report"
   ]
  },
  {
   "cell_type": "code",
   "execution_count": 18,
   "metadata": {},
   "outputs": [],
   "source": [
    "#Fitting training data with K as 5\n",
    "knn = KNeighborsClassifier(n_neighbors=5, weights='distance')\n",
    "fit = knn.fit(x_train,y_train)"
   ]
  },
  {
   "cell_type": "code",
   "execution_count": 19,
   "metadata": {},
   "outputs": [],
   "source": [
    "y_pre = fit.predict(x_test)"
   ]
  },
  {
   "cell_type": "code",
   "execution_count": 20,
   "metadata": {},
   "outputs": [
    {
     "data": {
      "text/plain": [
       "0.56"
      ]
     },
     "execution_count": 20,
     "metadata": {},
     "output_type": "execute_result"
    }
   ],
   "source": [
    "#Checking the accuracy \n",
    "knn.score(x_test, y_test)"
   ]
  },
  {
   "cell_type": "code",
   "execution_count": 21,
   "metadata": {},
   "outputs": [],
   "source": [
    "cm = confusion_matrix(y_test, y_pre)"
   ]
  },
  {
   "cell_type": "code",
   "execution_count": 22,
   "metadata": {},
   "outputs": [
    {
     "name": "stdout",
     "output_type": "stream",
     "text": [
      "[[  0   0   8   3]\n",
      " [  0   2  39   4]\n",
      " [  0   9 171  27]\n",
      " [  1   1  51   9]]\n"
     ]
    }
   ],
   "source": [
    "print cm"
   ]
  },
  {
   "cell_type": "code",
   "execution_count": 23,
   "metadata": {},
   "outputs": [],
   "source": [
    "from sklearn.metrics import classification_report"
   ]
  },
  {
   "cell_type": "code",
   "execution_count": 24,
   "metadata": {},
   "outputs": [
    {
     "name": "stdout",
     "output_type": "stream",
     "text": [
      "              precision    recall  f1-score   support\n",
      "\n",
      "           0       0.00      0.00      0.00        11\n",
      "           1       0.17      0.04      0.07        45\n",
      "           2       0.64      0.83      0.72       207\n",
      "           3       0.21      0.15      0.17        62\n",
      "\n",
      "   micro avg       0.56      0.56      0.56       325\n",
      "   macro avg       0.25      0.25      0.24       325\n",
      "weighted avg       0.47      0.56      0.50       325\n",
      "\n"
     ]
    }
   ],
   "source": [
    "print classification_report(y_test, y_pre)"
   ]
  },
  {
   "cell_type": "code",
   "execution_count": 25,
   "metadata": {},
   "outputs": [],
   "source": [
    "#Model: 60% for training and 40% for testing\n",
    "x_train, x_test, y_train, y_test = train_test_split(data, target, test_size=0.4, random_state=0)"
   ]
  },
  {
   "cell_type": "code",
   "execution_count": 26,
   "metadata": {},
   "outputs": [],
   "source": [
    "#To find out optimum value of K\n",
    "k_range = range(1,25)\n",
    "scores = {}\n",
    "scores_list = []\n",
    "for k in k_range:\n",
    "        knn = KNeighborsClassifier(n_neighbors=k)\n",
    "        knn.fit(x_train,y_train)\n",
    "        y_pred=knn.predict(x_test)\n",
    "        scores[k] = metrics.accuracy_score(y_test,y_pred)\n",
    "        scores_list.append(metrics.accuracy_score(y_test,y_pred))"
   ]
  },
  {
   "cell_type": "code",
   "execution_count": 27,
   "metadata": {},
   "outputs": [
    {
     "data": {
      "text/plain": [
       "<function matplotlib.pyplot.show>"
      ]
     },
     "execution_count": 27,
     "metadata": {},
     "output_type": "execute_result"
    },
    {
     "data": {
      "image/png": "[encoded data removed]",
      "text/plain": [
       "<Figure size 432x288 with 1 Axes>"
      ]
     },
     "metadata": {
      "needs_background": "light"
     },
     "output_type": "display_data"
    }
   ],
   "source": [
    "#Plotting the results from above code to get an idea about the accuracy\n",
    "%matplotlib inline\n",
    "import matplotlib.pyplot as plt\n",
    "plt.plot(k_range,scores_list)\n",
    "plt.xlabel('Value for K')\n",
    "plt.xlabel('Accuracy')\n",
    "plt.show"
   ]
  },
  {
   "cell_type": "code",
   "execution_count": 28,
   "metadata": {},
   "outputs": [],
   "source": [
    "#Fitting training data with K as 5\n",
    "knn = KNeighborsClassifier(n_neighbors=5, weights='distance')\n",
    "fit = knn.fit(x_train,y_train)"
   ]
  },
  {
   "cell_type": "code",
   "execution_count": 29,
   "metadata": {},
   "outputs": [],
   "source": [
    "y_pre = fit.predict(x_test)"
   ]
  },
  {
   "cell_type": "code",
   "execution_count": 30,
   "metadata": {},
   "outputs": [
    {
     "data": {
      "text/plain": [
       "0.573076923076923"
      ]
     },
     "execution_count": 30,
     "metadata": {},
     "output_type": "execute_result"
    }
   ],
   "source": [
    "#Checking the accuracy \n",
    "knn.score(x_test, y_test)"
   ]
  },
  {
   "cell_type": "code",
   "execution_count": 31,
   "metadata": {},
   "outputs": [],
   "source": [
    "cm = confusion_matrix(y_test, y_pre)"
   ]
  },
  {
   "cell_type": "code",
   "execution_count": 32,
   "metadata": {},
   "outputs": [
    {
     "name": "stdout",
     "output_type": "stream",
     "text": [
      "[[  0   0   6   2]\n",
      " [  0   2  30   3]\n",
      " [  0  10 141  16]\n",
      " [  1   1  42   6]]\n"
     ]
    }
   ],
   "source": [
    "print cm"
   ]
  },
  {
   "cell_type": "code",
   "execution_count": 33,
   "metadata": {},
   "outputs": [
    {
     "name": "stdout",
     "output_type": "stream",
     "text": [
      "              precision    recall  f1-score   support\n",
      "\n",
      "           0       0.00      0.00      0.00         8\n",
      "           1       0.15      0.06      0.08        35\n",
      "           2       0.64      0.84      0.73       167\n",
      "           3       0.22      0.12      0.16        50\n",
      "\n",
      "   micro avg       0.57      0.57      0.57       260\n",
      "   macro avg       0.25      0.26      0.24       260\n",
      "weighted avg       0.48      0.57      0.51       260\n",
      "\n"
     ]
    }
   ],
   "source": [
    "print classification_report(y_test, y_pre)"
   ]
  },
  {
   "cell_type": "code",
   "execution_count": 34,
   "metadata": {},
   "outputs": [],
   "source": [
    "#Model: 80% for training and 20% for testing\n",
    "x_train, x_test, y_train, y_test = train_test_split(data, target, test_size=0.4, random_state=0)"
   ]
  },
  {
   "cell_type": "code",
   "execution_count": 35,
   "metadata": {},
   "outputs": [],
   "source": [
    "#To find out optimum value of K\n",
    "k_range = range(1,25)\n",
    "scores = {}\n",
    "scores_list = []\n",
    "for k in k_range:\n",
    "        knn = KNeighborsClassifier(n_neighbors=k)\n",
    "        knn.fit(x_train,y_train)\n",
    "        y_pred=knn.predict(x_test)\n",
    "        scores[k] = metrics.accuracy_score(y_test,y_pred)\n",
    "        scores_list.append(metrics.accuracy_score(y_test,y_pred))"
   ]
  },
  {
   "cell_type": "code",
   "execution_count": 36,
   "metadata": {},
   "outputs": [
    {
     "data": {
      "text/plain": [
       "<function matplotlib.pyplot.show>"
      ]
     },
     "execution_count": 36,
     "metadata": {},
     "output_type": "execute_result"
    },
    {
     "data": {
      "image/png": "[encoded data removed]",
      "text/plain": [
       "<Figure size 432x288 with 1 Axes>"
      ]
     },
     "metadata": {
      "needs_background": "light"
     },
     "output_type": "display_data"
    }
   ],
   "source": [
    "#Plotting the results from above code to get an idea about the accuracy\n",
    "%matplotlib inline\n",
    "import matplotlib.pyplot as plt\n",
    "plt.plot(k_range,scores_list)\n",
    "plt.xlabel('Value for K')\n",
    "plt.xlabel('Accuracy')\n",
    "plt.show"
   ]
  },
  {
   "cell_type": "code",
   "execution_count": 37,
   "metadata": {},
   "outputs": [],
   "source": [
    "#Fitting training data with K as 5\n",
    "knn = KNeighborsClassifier(n_neighbors=5, weights='distance')\n",
    "fit = knn.fit(x_train,y_train)"
   ]
  },
  {
   "cell_type": "code",
   "execution_count": 38,
   "metadata": {},
   "outputs": [],
   "source": [
    "y_pre = fit.predict(x_test)"
   ]
  },
  {
   "cell_type": "code",
   "execution_count": 39,
   "metadata": {},
   "outputs": [
    {
     "data": {
      "text/plain": [
       "0.573076923076923"
      ]
     },
     "execution_count": 39,
     "metadata": {},
     "output_type": "execute_result"
    }
   ],
   "source": [
    "#Checking the accuracy \n",
    "knn.score(x_test, y_test)"
   ]
  },
  {
   "cell_type": "code",
   "execution_count": 40,
   "metadata": {},
   "outputs": [],
   "source": [
    "cm = confusion_matrix(y_test, y_pre)"
   ]
  },
  {
   "cell_type": "code",
   "execution_count": 41,
   "metadata": {},
   "outputs": [
    {
     "name": "stdout",
     "output_type": "stream",
     "text": [
      "[[  0   0   6   2]\n",
      " [  0   2  30   3]\n",
      " [  0  10 141  16]\n",
      " [  1   1  42   6]]\n"
     ]
    }
   ],
   "source": [
    "print cm"
   ]
  },
  {
   "cell_type": "code",
   "execution_count": 42,
   "metadata": {},
   "outputs": [
    {
     "name": "stdout",
     "output_type": "stream",
     "text": [
      "              precision    recall  f1-score   support\n",
      "\n",
      "           0       0.00      0.00      0.00         8\n",
      "           1       0.15      0.06      0.08        35\n",
      "           2       0.64      0.84      0.73       167\n",
      "           3       0.22      0.12      0.16        50\n",
      "\n",
      "   micro avg       0.57      0.57      0.57       260\n",
      "   macro avg       0.25      0.26      0.24       260\n",
      "weighted avg       0.48      0.57      0.51       260\n",
      "\n"
     ]
    }
   ],
   "source": [
    "print classification_report(y_test, y_pre)"
   ]
  }
 ],
 "metadata": {
  "kernelspec": {
   "display_name": "Python 2",
   "language": "python",
   "name": "python2"
  },
  "language_info": {
   "codemirror_mode": {
    "name": "ipython",
    "version": 2
   },
   "file_extension": ".py",
   "mimetype": "text/x-python",
   "name": "python",
   "nbconvert_exporter": "python",
   "pygments_lexer": "ipython2",
   "version": "2.7.15"
  }
 },
 "nbformat": 4,
 "nbformat_minor": 2
}
